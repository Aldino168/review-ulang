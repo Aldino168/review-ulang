{
 "cells": [
  {
   "cell_type": "code",
   "execution_count": 1,
   "id": "8e7523c8",
   "metadata": {},
   "outputs": [],
   "source": [
    "import numpy as np\n",
    "import pandas as pd\n",
    "import matplotlib.pyplot as plt"
   ]
  },
  {
   "cell_type": "code",
   "execution_count": 2,
   "id": "48690378",
   "metadata": {},
   "outputs": [],
   "source": [
    "X = np.linspace(0,10,100)\n",
    "y = np.sqrt(X)"
   ]
  },
  {
   "cell_type": "markdown",
   "id": "70867de4",
   "metadata": {},
   "source": [
    "* siapkan kanvas atau figure\n",
    "* siapkan koordinat atau axes"
   ]
  },
  {
   "cell_type": "code",
   "execution_count": 3,
   "id": "31d45d7d",
   "metadata": {},
   "outputs": [
    {
     "ename": "SyntaxError",
     "evalue": "invalid syntax (<ipython-input-3-a7e413526126>, line 3)",
     "output_type": "error",
     "traceback": [
      "\u001b[1;36m  File \u001b[1;32m\"<ipython-input-3-a7e413526126>\"\u001b[1;36m, line \u001b[1;32m3\u001b[0m\n\u001b[1;33m    ax.plot(X, y,hue = )\u001b[0m\n\u001b[1;37m                       ^\u001b[0m\n\u001b[1;31mSyntaxError\u001b[0m\u001b[1;31m:\u001b[0m invalid syntax\n"
     ]
    }
   ],
   "source": [
    "fig = plt.figure(figsize=(6,6))\n",
    "ax = plt.axes()\n",
    "ax.plot(X, y,hue = )"
   ]
  },
  {
   "cell_type": "code",
   "execution_count": null,
   "id": "e4358a0d",
   "metadata": {},
   "outputs": [],
   "source": [
    "X = np.linspace(0,10,100)\n",
    "y = np.sqrt(X)\n",
    "y1 = np.sin(X)\n",
    "y2 = np.cos(X)"
   ]
  },
  {
   "cell_type": "code",
   "execution_count": null,
   "id": "9d0b44b4",
   "metadata": {},
   "outputs": [],
   "source": [
    "fig = plt.figure(figsize=(6,6))\n",
    "ax = plt.axes()\n",
    "ax.plot(X, y)\n",
    "ax.plot(X, y1)\n",
    "ax.plot(X, y2)"
   ]
  },
  {
   "cell_type": "code",
   "execution_count": null,
   "id": "9213b343",
   "metadata": {},
   "outputs": [],
   "source": [
    "fig = plt.figure(figsize=(6,6))\n",
    "ax = plt.axes()\n",
    "ax.plot(X, y)\n",
    "ax.plot(X, y1)\n",
    "ax.plot(X, y2)\n",
    "ax.set_xlim(0,20)\n",
    "ax.set_ylim(-10,10)\n",
    "ax.set_title(\"kurva sin dan cos\")\n",
    "ax.set_xlabel(\"nilai x\")\n",
    "ax.set_ylabel(\"nilai y\")\n",
    "ax.axis(\"equal\")\n",
    "ax."
   ]
  },
  {
   "cell_type": "markdown",
   "id": "ee9e34f1",
   "metadata": {},
   "source": [
    "# Scatter Plot"
   ]
  },
  {
   "cell_type": "code",
   "execution_count": 4,
   "id": "2aea0f51",
   "metadata": {},
   "outputs": [
    {
     "data": {
      "text/html": [
       "<div>\n",
       "<style scoped>\n",
       "    .dataframe tbody tr th:only-of-type {\n",
       "        vertical-align: middle;\n",
       "    }\n",
       "\n",
       "    .dataframe tbody tr th {\n",
       "        vertical-align: top;\n",
       "    }\n",
       "\n",
       "    .dataframe thead th {\n",
       "        text-align: right;\n",
       "    }\n",
       "</style>\n",
       "<table border=\"1\" class=\"dataframe\">\n",
       "  <thead>\n",
       "    <tr style=\"text-align: right;\">\n",
       "      <th></th>\n",
       "      <th>x</th>\n",
       "      <th>y</th>\n",
       "      <th>radius</th>\n",
       "    </tr>\n",
       "  </thead>\n",
       "  <tbody>\n",
       "    <tr>\n",
       "      <th>0</th>\n",
       "      <td>0.064608</td>\n",
       "      <td>0.548028</td>\n",
       "      <td>0.551823</td>\n",
       "    </tr>\n",
       "    <tr>\n",
       "      <th>1</th>\n",
       "      <td>-0.277651</td>\n",
       "      <td>0.424200</td>\n",
       "      <td>0.506987</td>\n",
       "    </tr>\n",
       "    <tr>\n",
       "      <th>2</th>\n",
       "      <td>-0.477146</td>\n",
       "      <td>-0.157482</td>\n",
       "      <td>0.502463</td>\n",
       "    </tr>\n",
       "    <tr>\n",
       "      <th>3</th>\n",
       "      <td>0.031218</td>\n",
       "      <td>-0.169573</td>\n",
       "      <td>0.172423</td>\n",
       "    </tr>\n",
       "    <tr>\n",
       "      <th>4</th>\n",
       "      <td>-0.048724</td>\n",
       "      <td>0.736632</td>\n",
       "      <td>0.738242</td>\n",
       "    </tr>\n",
       "    <tr>\n",
       "      <th>...</th>\n",
       "      <td>...</td>\n",
       "      <td>...</td>\n",
       "      <td>...</td>\n",
       "    </tr>\n",
       "    <tr>\n",
       "      <th>245</th>\n",
       "      <td>-0.055304</td>\n",
       "      <td>0.516169</td>\n",
       "      <td>0.519123</td>\n",
       "    </tr>\n",
       "    <tr>\n",
       "      <th>246</th>\n",
       "      <td>0.048116</td>\n",
       "      <td>0.772685</td>\n",
       "      <td>0.774182</td>\n",
       "    </tr>\n",
       "    <tr>\n",
       "      <th>247</th>\n",
       "      <td>0.230685</td>\n",
       "      <td>0.178662</td>\n",
       "      <td>0.291780</td>\n",
       "    </tr>\n",
       "    <tr>\n",
       "      <th>248</th>\n",
       "      <td>0.535448</td>\n",
       "      <td>0.158889</td>\n",
       "      <td>0.558525</td>\n",
       "    </tr>\n",
       "    <tr>\n",
       "      <th>249</th>\n",
       "      <td>-0.505045</td>\n",
       "      <td>0.100090</td>\n",
       "      <td>0.514867</td>\n",
       "    </tr>\n",
       "  </tbody>\n",
       "</table>\n",
       "<p>250 rows × 3 columns</p>\n",
       "</div>"
      ],
      "text/plain": [
       "            x         y    radius\n",
       "0    0.064608  0.548028  0.551823\n",
       "1   -0.277651  0.424200  0.506987\n",
       "2   -0.477146 -0.157482  0.502463\n",
       "3    0.031218 -0.169573  0.172423\n",
       "4   -0.048724  0.736632  0.738242\n",
       "..        ...       ...       ...\n",
       "245 -0.055304  0.516169  0.519123\n",
       "246  0.048116  0.772685  0.774182\n",
       "247  0.230685  0.178662  0.291780\n",
       "248  0.535448  0.158889  0.558525\n",
       "249 -0.505045  0.100090  0.514867\n",
       "\n",
       "[250 rows x 3 columns]"
      ]
     },
     "execution_count": 4,
     "metadata": {},
     "output_type": "execute_result"
    }
   ],
   "source": [
    "df = pd.read_csv(\"data_2/circle_data.csv\", sep=\";\")\n",
    "df"
   ]
  },
  {
   "cell_type": "code",
   "execution_count": 5,
   "id": "7356ae0a",
   "metadata": {},
   "outputs": [],
   "source": [
    "X = df.x\n",
    "y = df.y\n",
    "rad = df.radius"
   ]
  },
  {
   "cell_type": "code",
   "execution_count": 6,
   "id": "585b1960",
   "metadata": {},
   "outputs": [
    {
     "data": {
      "text/plain": [
       "(-1.051931282204274,\n",
       " 1.0568554972047681,\n",
       " -1.0746107518349495,\n",
       " 1.0329611279715503)"
      ]
     },
     "execution_count": 6,
     "metadata": {},
     "output_type": "execute_result"
    },
    {
     "data": {
      "image/png": "[encoded data removed]",
      "text/plain": [
       "<Figure size 576x576 with 1 Axes>"
      ]
     },
     "metadata": {
      "needs_background": "light"
     },
     "output_type": "display_data"
    }
   ],
   "source": [
    "fig = plt.figure(figsize=(8,8))\n",
    "ax = plt.axes()\n",
    "ax.scatter(X,y)\n",
    "ax.axis(\"equal\",)"
   ]
  },
  {
   "cell_type": "markdown",
   "id": "3fc83ca3",
   "metadata": {},
   "source": [
    "# Histrogram"
   ]
  },
  {
   "cell_type": "code",
   "execution_count": 7,
   "id": "5bec9f6a",
   "metadata": {},
   "outputs": [],
   "source": [
    "data = np.random.rand(1000)"
   ]
  },
  {
   "cell_type": "code",
   "execution_count": 8,
   "id": "10cc9bc8",
   "metadata": {},
   "outputs": [
    {
     "data": {
      "text/plain": [
       "(array([1.12672753, 0.70107491, 1.12672753, 1.05161236, 1.10168914,\n",
       "        0.92642041, 1.17680431, 1.02657397, 1.10168914, 0.97649719,\n",
       "        0.7261133 , 0.67603652, 1.07665075, 0.62595974, 1.07665075,\n",
       "        1.12672753, 0.97649719, 0.90138202, 0.97649719, 1.2018427 ,\n",
       "        0.90138202, 1.07665075, 0.9514588 , 1.27695786, 1.15176592]),\n",
       " array([0.00151957, 0.04145824, 0.08139691, 0.12133558, 0.16127425,\n",
       "        0.20121292, 0.24115159, 0.28109026, 0.32102894, 0.36096761,\n",
       "        0.40090628, 0.44084495, 0.48078362, 0.52072229, 0.56066096,\n",
       "        0.60059963, 0.6405383 , 0.68047697, 0.72041565, 0.76035432,\n",
       "        0.80029299, 0.84023166, 0.88017033, 0.920109  , 0.96004767,\n",
       "        0.99998634]),\n",
       " <BarContainer object of 25 artists>)"
      ]
     },
     "execution_count": 8,
     "metadata": {},
     "output_type": "execute_result"
    },
    {
     "data": {
      "image/png": "[encoded data removed]",
      "text/plain": [
       "<Figure size 432x432 with 1 Axes>"
      ]
     },
     "metadata": {
      "needs_background": "light"
     },
     "output_type": "display_data"
    }
   ],
   "source": [
    "fig = plt.figure(figsize=(6,6))\n",
    "ax = plt.axes()\n",
    "ax.hist(data,bins= 25, density=1)"
   ]
  },
  {
   "cell_type": "code",
   "execution_count": 9,
   "id": "3b068fad",
   "metadata": {},
   "outputs": [],
   "source": [
    "data = np.random.randn(1000)"
   ]
  },
  {
   "cell_type": "code",
   "execution_count": 10,
   "id": "686883bc",
   "metadata": {},
   "outputs": [
    {
     "data": {
      "image/png": "[encoded data removed]",
      "text/plain": [
       "<Figure size 432x432 with 1 Axes>"
      ]
     },
     "metadata": {
      "needs_background": "light"
     },
     "output_type": "display_data"
    }
   ],
   "source": [
    "fig = plt.figure(figsize=(6,6))\n",
    "ax = plt.axes()\n",
    "ax.hist(data,bins= 25, density=1);"
   ]
  },
  {
   "cell_type": "markdown",
   "id": "462ff005",
   "metadata": {},
   "source": [
    "# Subplot "
   ]
  },
  {
   "cell_type": "code",
   "execution_count": 11,
   "id": "6208f15f",
   "metadata": {},
   "outputs": [
    {
     "data": {
      "text/plain": [
       "<matplotlib.collections.PathCollection at 0x1f98f681490>"
      ]
     },
     "execution_count": 11,
     "metadata": {},
     "output_type": "execute_result"
    },
    {
     "data": {
      "image/png": "[encoded data removed]",
      "text/plain": [
       "<Figure size 1080x720 with 6 Axes>"
      ]
     },
     "metadata": {
      "needs_background": "light"
     },
     "output_type": "display_data"
    }
   ],
   "source": [
    "fig, ax = plt.subplots(2,3, figsize = (15,10))\n",
    "ax[0,0].hist(data,bins= 25, density=1)\n",
    "ax[0,0].set_title(\"plot_1\")\n",
    "\n",
    "ax[0,1].hist(data,bins= 20, density=1)\n",
    "\n",
    "ax[0,2].scatter(X,y)\n",
    "\n",
    "ax[1,0].axis(\"off\")\n",
    "\n",
    "ax[1,1].scatter(X,y)\n",
    "\n"
   ]
  },
  {
   "cell_type": "code",
   "execution_count": null,
   "id": "f64c9004",
   "metadata": {},
   "outputs": [],
   "source": []
  },
  {
   "cell_type": "code",
   "execution_count": null,
   "id": "ad31c5f5",
   "metadata": {},
   "outputs": [],
   "source": []
  },
  {
   "cell_type": "code",
   "execution_count": null,
   "id": "ab3076ff",
   "metadata": {},
   "outputs": [],
   "source": []
  }
 ],
 "metadata": {
  "kernelspec": {
   "display_name": "Python 3",
   "language": "python",
   "name": "python3"
  },
  "language_info": {
   "codemirror_mode": {
    "name": "ipython",
    "version": 3
   },
   "file_extension": ".py",
   "mimetype": "text/x-python",
   "name": "python",
   "nbconvert_exporter": "python",
   "pygments_lexer": "ipython3",
   "version": "3.8.8"
  }
 },
 "nbformat": 4,
 "nbformat_minor": 5
}
