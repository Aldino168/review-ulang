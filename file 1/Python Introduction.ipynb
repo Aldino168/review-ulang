{
 "cells": [
  {
   "cell_type": "markdown",
   "id": "b4ad8dac",
   "metadata": {},
   "source": [
    "# print"
   ]
  },
  {
   "cell_type": "code",
   "execution_count": 1,
   "id": "6b218c36",
   "metadata": {},
   "outputs": [
    {
     "name": "stdout",
     "output_type": "stream",
     "text": [
      "hallo, nama saya rahmat\n"
     ]
    }
   ],
   "source": [
    "print(\"hallo, nama saya rahmat\")"
   ]
  },
  {
   "cell_type": "code",
   "execution_count": 2,
   "id": "796ed191",
   "metadata": {},
   "outputs": [
    {
     "name": "stdout",
     "output_type": "stream",
     "text": [
      "hallo, nama saya rahmat\n"
     ]
    }
   ],
   "source": [
    "print('hallo, nama saya rahmat')"
   ]
  },
  {
   "cell_type": "code",
   "execution_count": 3,
   "id": "f6082797",
   "metadata": {},
   "outputs": [
    {
     "name": "stdout",
     "output_type": "stream",
     "text": [
      "hallo, nama saya rahm\"at\n"
     ]
    }
   ],
   "source": [
    "print(\"\"\"hallo, nama saya rahm\"at\"\"\")"
   ]
  },
  {
   "cell_type": "markdown",
   "id": "1b3b2ffe",
   "metadata": {},
   "source": [
    "# variable"
   ]
  },
  {
   "cell_type": "code",
   "execution_count": 4,
   "id": "5a1eebf2",
   "metadata": {},
   "outputs": [],
   "source": [
    "a = 1"
   ]
  },
  {
   "cell_type": "code",
   "execution_count": 5,
   "id": "2e8e300e",
   "metadata": {},
   "outputs": [
    {
     "data": {
      "text/plain": [
       "1"
      ]
     },
     "execution_count": 5,
     "metadata": {},
     "output_type": "execute_result"
    }
   ],
   "source": [
    "a"
   ]
  },
  {
   "cell_type": "code",
   "execution_count": 6,
   "id": "ed5c249f",
   "metadata": {},
   "outputs": [],
   "source": [
    "a, b = 4, 5"
   ]
  },
  {
   "cell_type": "code",
   "execution_count": 7,
   "id": "b0c8d263",
   "metadata": {},
   "outputs": [
    {
     "data": {
      "text/plain": [
       "4"
      ]
     },
     "execution_count": 7,
     "metadata": {},
     "output_type": "execute_result"
    }
   ],
   "source": [
    "a"
   ]
  },
  {
   "cell_type": "code",
   "execution_count": 8,
   "id": "3310282b",
   "metadata": {},
   "outputs": [
    {
     "data": {
      "text/plain": [
       "5"
      ]
     },
     "execution_count": 8,
     "metadata": {},
     "output_type": "execute_result"
    }
   ],
   "source": [
    "b"
   ]
  },
  {
   "cell_type": "code",
   "execution_count": 9,
   "id": "028421d9",
   "metadata": {},
   "outputs": [
    {
     "data": {
      "text/plain": [
       "(4, 5)"
      ]
     },
     "execution_count": 9,
     "metadata": {},
     "output_type": "execute_result"
    }
   ],
   "source": [
    "a,b"
   ]
  },
  {
   "cell_type": "markdown",
   "id": "90bfb463",
   "metadata": {},
   "source": [
    "# list"
   ]
  },
  {
   "cell_type": "code",
   "execution_count": 10,
   "id": "75d07625",
   "metadata": {},
   "outputs": [],
   "source": [
    "a = [1, 2, 4, \"empat\", \"lima\"]"
   ]
  },
  {
   "cell_type": "code",
   "execution_count": 11,
   "id": "6c8992c8",
   "metadata": {},
   "outputs": [
    {
     "data": {
      "text/plain": [
       "[1, 2, 4, 'empat', 'lima']"
      ]
     },
     "execution_count": 11,
     "metadata": {},
     "output_type": "execute_result"
    }
   ],
   "source": [
    "a"
   ]
  },
  {
   "cell_type": "code",
   "execution_count": 12,
   "id": "7fa66440",
   "metadata": {},
   "outputs": [
    {
     "data": {
      "text/plain": [
       "1"
      ]
     },
     "execution_count": 12,
     "metadata": {},
     "output_type": "execute_result"
    }
   ],
   "source": [
    "a[0]"
   ]
  },
  {
   "cell_type": "code",
   "execution_count": 13,
   "id": "e47f9164",
   "metadata": {},
   "outputs": [
    {
     "data": {
      "text/plain": [
       "2"
      ]
     },
     "execution_count": 13,
     "metadata": {},
     "output_type": "execute_result"
    }
   ],
   "source": [
    "a[1]"
   ]
  },
  {
   "cell_type": "code",
   "execution_count": 14,
   "id": "c922e958",
   "metadata": {},
   "outputs": [
    {
     "data": {
      "text/plain": [
       "'lima'"
      ]
     },
     "execution_count": 14,
     "metadata": {},
     "output_type": "execute_result"
    }
   ],
   "source": [
    "a[-1]"
   ]
  },
  {
   "cell_type": "code",
   "execution_count": 15,
   "id": "5e2cd647",
   "metadata": {},
   "outputs": [],
   "source": [
    "a.append(4)"
   ]
  },
  {
   "cell_type": "code",
   "execution_count": 16,
   "id": "463e67e9",
   "metadata": {},
   "outputs": [
    {
     "data": {
      "text/plain": [
       "[1, 2, 4, 'empat', 'lima', 4]"
      ]
     },
     "execution_count": 16,
     "metadata": {},
     "output_type": "execute_result"
    }
   ],
   "source": [
    "a"
   ]
  },
  {
   "cell_type": "code",
   "execution_count": 17,
   "id": "269021fa",
   "metadata": {},
   "outputs": [],
   "source": [
    "a[1]= 5"
   ]
  },
  {
   "cell_type": "code",
   "execution_count": 18,
   "id": "db9e4e62",
   "metadata": {},
   "outputs": [
    {
     "data": {
      "text/plain": [
       "[1, 5, 4, 'empat', 'lima', 4]"
      ]
     },
     "execution_count": 18,
     "metadata": {},
     "output_type": "execute_result"
    }
   ],
   "source": [
    "a"
   ]
  },
  {
   "cell_type": "code",
   "execution_count": 19,
   "id": "2bf16553",
   "metadata": {},
   "outputs": [],
   "source": [
    "b= []"
   ]
  },
  {
   "cell_type": "code",
   "execution_count": 20,
   "id": "8ec6981f",
   "metadata": {},
   "outputs": [],
   "source": [
    "b.append(1)"
   ]
  },
  {
   "cell_type": "code",
   "execution_count": 21,
   "id": "3b77df7c",
   "metadata": {},
   "outputs": [
    {
     "data": {
      "text/plain": [
       "[1]"
      ]
     },
     "execution_count": 21,
     "metadata": {},
     "output_type": "execute_result"
    }
   ],
   "source": [
    "b"
   ]
  },
  {
   "cell_type": "code",
   "execution_count": 22,
   "id": "21a62c6f",
   "metadata": {},
   "outputs": [],
   "source": [
    "b.append(2)"
   ]
  },
  {
   "cell_type": "code",
   "execution_count": 23,
   "id": "b6986c19",
   "metadata": {},
   "outputs": [
    {
     "data": {
      "text/plain": [
       "[1, 2]"
      ]
     },
     "execution_count": 23,
     "metadata": {},
     "output_type": "execute_result"
    }
   ],
   "source": [
    "b"
   ]
  },
  {
   "cell_type": "markdown",
   "id": "da98a81b",
   "metadata": {},
   "source": [
    "# Slicing\n",
    "memotong\n",
    "* inclusive : exclusive : step"
   ]
  },
  {
   "cell_type": "code",
   "execution_count": 24,
   "id": "04cc6efa",
   "metadata": {},
   "outputs": [],
   "source": [
    "a = [0, 1, 2, 3, 4, 5, 6]"
   ]
  },
  {
   "cell_type": "code",
   "execution_count": 25,
   "id": "42e7a490",
   "metadata": {},
   "outputs": [
    {
     "data": {
      "text/plain": [
       "[0, 1, 2, 3, 4]"
      ]
     },
     "execution_count": 25,
     "metadata": {},
     "output_type": "execute_result"
    }
   ],
   "source": [
    "a[0:5]"
   ]
  },
  {
   "cell_type": "code",
   "execution_count": 26,
   "id": "201a3838",
   "metadata": {},
   "outputs": [
    {
     "data": {
      "text/plain": [
       "[1, 2]"
      ]
     },
     "execution_count": 26,
     "metadata": {},
     "output_type": "execute_result"
    }
   ],
   "source": [
    "a[1:3]"
   ]
  },
  {
   "cell_type": "code",
   "execution_count": 27,
   "id": "7254c4ce",
   "metadata": {},
   "outputs": [
    {
     "data": {
      "text/plain": [
       "[0, 1, 2, 3, 4, 5]"
      ]
     },
     "execution_count": 27,
     "metadata": {},
     "output_type": "execute_result"
    }
   ],
   "source": [
    "a [:-1]"
   ]
  },
  {
   "cell_type": "code",
   "execution_count": 28,
   "id": "bad1215f",
   "metadata": {},
   "outputs": [
    {
     "data": {
      "text/plain": [
       "[0, 1, 2, 3, 4]"
      ]
     },
     "execution_count": 28,
     "metadata": {},
     "output_type": "execute_result"
    }
   ],
   "source": [
    "a[:-2]"
   ]
  },
  {
   "cell_type": "code",
   "execution_count": 30,
   "id": "db82a287",
   "metadata": {},
   "outputs": [
    {
     "data": {
      "text/plain": [
       "[0, 2, 4, 6]"
      ]
     },
     "execution_count": 30,
     "metadata": {},
     "output_type": "execute_result"
    }
   ],
   "source": [
    "a[::2]"
   ]
  },
  {
   "cell_type": "code",
   "execution_count": 31,
   "id": "375c17b4",
   "metadata": {},
   "outputs": [
    {
     "data": {
      "text/plain": [
       "[0, 2, 4]"
      ]
     },
     "execution_count": 31,
     "metadata": {},
     "output_type": "execute_result"
    }
   ],
   "source": [
    "a[:5:2]"
   ]
  },
  {
   "cell_type": "code",
   "execution_count": 32,
   "id": "de606eba",
   "metadata": {},
   "outputs": [
    {
     "data": {
      "text/plain": [
       "[6, 5, 4, 3, 2, 1, 0]"
      ]
     },
     "execution_count": 32,
     "metadata": {},
     "output_type": "execute_result"
    }
   ],
   "source": [
    "a[::-1]"
   ]
  },
  {
   "cell_type": "markdown",
   "id": "b2f939fb",
   "metadata": {},
   "source": [
    "# join & split"
   ]
  },
  {
   "cell_type": "code",
   "execution_count": 33,
   "id": "e228efcc",
   "metadata": {},
   "outputs": [],
   "source": [
    "a = ['cat', 'fish', 'dog']"
   ]
  },
  {
   "cell_type": "code",
   "execution_count": 34,
   "id": "1f892db0",
   "metadata": {},
   "outputs": [
    {
     "data": {
      "text/plain": [
       "'cat, fish, dog'"
      ]
     },
     "execution_count": 34,
     "metadata": {},
     "output_type": "execute_result"
    }
   ],
   "source": [
    "\", \".join(a)"
   ]
  },
  {
   "cell_type": "code",
   "execution_count": 35,
   "id": "6de501fc",
   "metadata": {},
   "outputs": [
    {
     "data": {
      "text/plain": [
       "'cat fish dog'"
      ]
     },
     "execution_count": 35,
     "metadata": {},
     "output_type": "execute_result"
    }
   ],
   "source": [
    "\" \".join(a)"
   ]
  },
  {
   "cell_type": "code",
   "execution_count": 42,
   "id": "2384de7e",
   "metadata": {},
   "outputs": [],
   "source": [
    "a= \"Ir Rahmat Aldino, S.T, M.T\""
   ]
  },
  {
   "cell_type": "code",
   "execution_count": 43,
   "id": "5c0a83e6",
   "metadata": {},
   "outputs": [
    {
     "data": {
      "text/plain": [
       "['Ir Rahmat Aldino', ' S.T', ' M.T']"
      ]
     },
     "execution_count": 43,
     "metadata": {},
     "output_type": "execute_result"
    }
   ],
   "source": [
    "a= a.split(\",\")\n",
    "a"
   ]
  },
  {
   "cell_type": "code",
   "execution_count": 40,
   "id": "513c3edd",
   "metadata": {},
   "outputs": [
    {
     "data": {
      "text/plain": [
       "[' S.T', ' M.T']"
      ]
     },
     "execution_count": 40,
     "metadata": {},
     "output_type": "execute_result"
    }
   ],
   "source": [
    "a[1:]"
   ]
  },
  {
   "cell_type": "markdown",
   "id": "d992d500",
   "metadata": {},
   "source": [
    "# Dictionary\n",
    "{key : value}"
   ]
  },
  {
   "cell_type": "code",
   "execution_count": 44,
   "id": "62d5de48",
   "metadata": {},
   "outputs": [],
   "source": [
    "a = {\"cat\": \"kucing\", \"dog\":\"anjing\", \"fish\": \"ikan\"}"
   ]
  },
  {
   "cell_type": "code",
   "execution_count": 45,
   "id": "078ef39d",
   "metadata": {},
   "outputs": [
    {
     "data": {
      "text/plain": [
       "{'cat': 'kucing', 'dog': 'anjing', 'fish': 'ikan'}"
      ]
     },
     "execution_count": 45,
     "metadata": {},
     "output_type": "execute_result"
    }
   ],
   "source": [
    "a"
   ]
  },
  {
   "cell_type": "code",
   "execution_count": 46,
   "id": "7745f811",
   "metadata": {},
   "outputs": [],
   "source": [
    "a[\"elephant\"]= \"gajah\""
   ]
  },
  {
   "cell_type": "code",
   "execution_count": 47,
   "id": "c3b38e08",
   "metadata": {},
   "outputs": [
    {
     "data": {
      "text/plain": [
       "{'cat': 'kucing', 'dog': 'anjing', 'fish': 'ikan', 'elephant': 'gajah'}"
      ]
     },
     "execution_count": 47,
     "metadata": {},
     "output_type": "execute_result"
    }
   ],
   "source": [
    "a"
   ]
  },
  {
   "cell_type": "code",
   "execution_count": 48,
   "id": "9df698bb",
   "metadata": {},
   "outputs": [
    {
     "data": {
      "text/plain": [
       "'kucing'"
      ]
     },
     "execution_count": 48,
     "metadata": {},
     "output_type": "execute_result"
    }
   ],
   "source": [
    "a[\"cat\"]"
   ]
  },
  {
   "cell_type": "code",
   "execution_count": 49,
   "id": "94b2afa7",
   "metadata": {},
   "outputs": [
    {
     "data": {
      "text/plain": [
       "'anjing'"
      ]
     },
     "execution_count": 49,
     "metadata": {},
     "output_type": "execute_result"
    }
   ],
   "source": [
    "a[\"dog\"]"
   ]
  },
  {
   "cell_type": "code",
   "execution_count": 50,
   "id": "f78100cc",
   "metadata": {},
   "outputs": [
    {
     "data": {
      "text/plain": [
       "dict_keys(['cat', 'dog', 'fish', 'elephant'])"
      ]
     },
     "execution_count": 50,
     "metadata": {},
     "output_type": "execute_result"
    }
   ],
   "source": [
    "a.keys()"
   ]
  },
  {
   "cell_type": "code",
   "execution_count": 51,
   "id": "2e34bbf4",
   "metadata": {},
   "outputs": [
    {
     "data": {
      "text/plain": [
       "dict_values(['kucing', 'anjing', 'ikan', 'gajah'])"
      ]
     },
     "execution_count": 51,
     "metadata": {},
     "output_type": "execute_result"
    }
   ],
   "source": [
    "a.values()"
   ]
  },
  {
   "cell_type": "code",
   "execution_count": 52,
   "id": "299d0d2e",
   "metadata": {},
   "outputs": [],
   "source": [
    "a[\"cat\"] = 1"
   ]
  },
  {
   "cell_type": "code",
   "execution_count": 53,
   "id": "9121a698",
   "metadata": {},
   "outputs": [
    {
     "data": {
      "text/plain": [
       "{'cat': 1, 'dog': 'anjing', 'fish': 'ikan', 'elephant': 'gajah'}"
      ]
     },
     "execution_count": 53,
     "metadata": {},
     "output_type": "execute_result"
    }
   ],
   "source": [
    "a"
   ]
  },
  {
   "cell_type": "markdown",
   "id": "b4f9271c",
   "metadata": {},
   "source": [
    "# fungsi"
   ]
  },
  {
   "cell_type": "code",
   "execution_count": 56,
   "id": "cdc20ae6",
   "metadata": {},
   "outputs": [],
   "source": [
    "import math"
   ]
  },
  {
   "cell_type": "code",
   "execution_count": 54,
   "id": "b0363a16",
   "metadata": {},
   "outputs": [],
   "source": [
    "def pengurangan (a,b):\n",
    "    return a-b"
   ]
  },
  {
   "cell_type": "code",
   "execution_count": 55,
   "id": "81094dbf",
   "metadata": {},
   "outputs": [
    {
     "data": {
      "text/plain": [
       "121"
      ]
     },
     "execution_count": 55,
     "metadata": {},
     "output_type": "execute_result"
    }
   ],
   "source": [
    "pengurangan(1000,879)"
   ]
  },
  {
   "cell_type": "code",
   "execution_count": 63,
   "id": "aa29b3b4",
   "metadata": {},
   "outputs": [],
   "source": [
    "def knn (data_testing, X_train, y_train):\n",
    "    return math.sqrt((data_testing-X_train)**2-(y_train-X_train)**2)"
   ]
  },
  {
   "cell_type": "code",
   "execution_count": 66,
   "id": "a7009028",
   "metadata": {},
   "outputs": [
    {
     "data": {
      "text/plain": [
       "67.08203932499369"
      ]
     },
     "execution_count": 66,
     "metadata": {},
     "output_type": "execute_result"
    }
   ],
   "source": [
    "knn(100,30,50)"
   ]
  },
  {
   "cell_type": "markdown",
   "id": "74ace547",
   "metadata": {},
   "source": [
    "# Conditionals"
   ]
  },
  {
   "cell_type": "code",
   "execution_count": 67,
   "id": "36dda114",
   "metadata": {},
   "outputs": [],
   "source": [
    "nilai = 73"
   ]
  },
  {
   "cell_type": "code",
   "execution_count": 68,
   "id": "930412d8",
   "metadata": {},
   "outputs": [
    {
     "name": "stdout",
     "output_type": "stream",
     "text": [
      "nilai nya A\n"
     ]
    }
   ],
   "source": [
    "if 0<= nilai <50:\n",
    "    print (\"nilai nya C\")\n",
    "elif 50<= nilai <75:\n",
    "    print (\"nilai nya B\")\n",
    "elif 75<= nilai <100:\n",
    "    print (\"nilai nya A\")\n",
    "elif nilai == 100:\n",
    "    print (\"nilai nya S\")\n",
    "else:\n",
    "    print (\"nilainya ngaco\")"
   ]
  },
  {
   "cell_type": "code",
   "execution_count": 69,
   "id": "1ac9e438",
   "metadata": {},
   "outputs": [],
   "source": [
    "def konversi_ke_indeks (nilai):\n",
    "    if 0<= nilai <50:\n",
    "        return (\"nilai nya C\")\n",
    "    elif 50<= nilai <75:\n",
    "        return (\"nilai nya B\")\n",
    "    elif 75<= nilai <100:\n",
    "        return (\"nilai nya A\")\n",
    "    elif nilai == 100:\n",
    "        return (\"nilai nya S\")\n",
    "    else:\n",
    "        return (\"nilainya ngaco\")"
   ]
  },
  {
   "cell_type": "code",
   "execution_count": 70,
   "id": "a41f2cf1",
   "metadata": {},
   "outputs": [
    {
     "data": {
      "text/plain": [
       "'nilai nya C'"
      ]
     },
     "execution_count": 70,
     "metadata": {},
     "output_type": "execute_result"
    }
   ],
   "source": [
    "konversi_ke_indeks(45)"
   ]
  },
  {
   "cell_type": "markdown",
   "id": "1128c169",
   "metadata": {},
   "source": [
    "# Iterations\n",
    "* menelusuri tiap data yang ada"
   ]
  },
  {
   "cell_type": "code",
   "execution_count": 71,
   "id": "93830fbc",
   "metadata": {},
   "outputs": [],
   "source": [
    "numbers=[1,3,4,5,6]"
   ]
  },
  {
   "cell_type": "code",
   "execution_count": 73,
   "id": "d6f94b08",
   "metadata": {},
   "outputs": [
    {
     "name": "stdout",
     "output_type": "stream",
     "text": [
      "1\n",
      "3\n",
      "4\n",
      "5\n",
      "6\n"
     ]
    }
   ],
   "source": [
    "for i in numbers:\n",
    "    print (i)"
   ]
  },
  {
   "cell_type": "code",
   "execution_count": 76,
   "id": "2680f09e",
   "metadata": {},
   "outputs": [
    {
     "name": "stdout",
     "output_type": "stream",
     "text": [
      "nilai nya C\n",
      "nilai nya C\n",
      "nilai nya C\n",
      "nilai nya A\n",
      "nilai nya A\n"
     ]
    }
   ],
   "source": [
    "for i in (10, 40, 17,80,99):\n",
    "    print(konversi_ke_indeks(i))"
   ]
  },
  {
   "cell_type": "code",
   "execution_count": 77,
   "id": "364005d5",
   "metadata": {},
   "outputs": [
    {
     "name": "stdout",
     "output_type": "stream",
     "text": [
      "1\n",
      "2\n",
      "3\n",
      "4\n",
      "5\n",
      "6\n",
      "7\n",
      "8\n",
      "9\n",
      "10\n",
      "11\n",
      "12\n",
      "13\n",
      "14\n"
     ]
    }
   ],
   "source": [
    "for i in range (1,15):\n",
    "    print(i)"
   ]
  },
  {
   "cell_type": "code",
   "execution_count": 80,
   "id": "e0040e87",
   "metadata": {},
   "outputs": [
    {
     "data": {
      "text/plain": [
       "dict_keys(['cat', 'dog', 'fish', 'elephant'])"
      ]
     },
     "execution_count": 80,
     "metadata": {},
     "output_type": "execute_result"
    }
   ],
   "source": [
    "a.keys()"
   ]
  },
  {
   "cell_type": "code",
   "execution_count": 82,
   "id": "43e28b40",
   "metadata": {},
   "outputs": [
    {
     "name": "stdout",
     "output_type": "stream",
     "text": [
      "1\n",
      "anjing\n",
      "ikan\n",
      "gajah\n"
     ]
    }
   ],
   "source": [
    "for key in a.keys():\n",
    "    print(a[key])"
   ]
  },
  {
   "cell_type": "code",
   "execution_count": 83,
   "id": "a8578a3e",
   "metadata": {},
   "outputs": [
    {
     "name": "stdout",
     "output_type": "stream",
     "text": [
      "Bahasa Indonesia nya cat adalah 1\n",
      "Bahasa Indonesia nya dog adalah anjing\n",
      "Bahasa Indonesia nya fish adalah ikan\n",
      "Bahasa Indonesia nya elephant adalah gajah\n"
     ]
    }
   ],
   "source": [
    "for key in a.keys():\n",
    "    print(\"Bahasa Indonesia nya\",key,\"adalah\",a[key])"
   ]
  },
  {
   "cell_type": "code",
   "execution_count": 85,
   "id": "d461bfaa",
   "metadata": {},
   "outputs": [
    {
     "name": "stdout",
     "output_type": "stream",
     "text": [
      "Bahasa Indonesia nya cat adalah 1\n",
      "Bahasa Indonesia nya dog adalah anjing\n",
      "Bahasa Indonesia nya fish adalah ikan\n",
      "Bahasa Indonesia nya elephant adalah gajah\n"
     ]
    }
   ],
   "source": [
    "for key in a.keys():\n",
    "    print(f\"Bahasa Indonesia nya {key} adalah {a[key]}\")"
   ]
  },
  {
   "cell_type": "code",
   "execution_count": 86,
   "id": "2efc8e74",
   "metadata": {},
   "outputs": [],
   "source": [
    "a = []\n",
    "for i in range (1, 20):\n",
    "    a.append(i)"
   ]
  },
  {
   "cell_type": "code",
   "execution_count": 87,
   "id": "bffcb099",
   "metadata": {},
   "outputs": [
    {
     "data": {
      "text/plain": [
       "[1, 2, 3, 4, 5, 6, 7, 8, 9, 10, 11, 12, 13, 14, 15, 16, 17, 18, 19]"
      ]
     },
     "execution_count": 87,
     "metadata": {},
     "output_type": "execute_result"
    }
   ],
   "source": [
    "a"
   ]
  },
  {
   "cell_type": "markdown",
   "id": "f9fc4522",
   "metadata": {},
   "source": [
    "# Python Comprehansion"
   ]
  },
  {
   "cell_type": "code",
   "execution_count": 88,
   "id": "092f0256",
   "metadata": {},
   "outputs": [],
   "source": [
    "a = [i for i in range (1,20)]"
   ]
  },
  {
   "cell_type": "code",
   "execution_count": 89,
   "id": "127126f2",
   "metadata": {},
   "outputs": [
    {
     "data": {
      "text/plain": [
       "[1, 2, 3, 4, 5, 6, 7, 8, 9, 10, 11, 12, 13, 14, 15, 16, 17, 18, 19]"
      ]
     },
     "execution_count": 89,
     "metadata": {},
     "output_type": "execute_result"
    }
   ],
   "source": [
    "a"
   ]
  },
  {
   "cell_type": "code",
   "execution_count": 90,
   "id": "72225c72",
   "metadata": {},
   "outputs": [],
   "source": [
    "a = [i**2 for i in range (20)]"
   ]
  },
  {
   "cell_type": "code",
   "execution_count": 91,
   "id": "56de537e",
   "metadata": {},
   "outputs": [
    {
     "data": {
      "text/plain": [
       "[0,\n",
       " 1,\n",
       " 4,\n",
       " 9,\n",
       " 16,\n",
       " 25,\n",
       " 36,\n",
       " 49,\n",
       " 64,\n",
       " 81,\n",
       " 100,\n",
       " 121,\n",
       " 144,\n",
       " 169,\n",
       " 196,\n",
       " 225,\n",
       " 256,\n",
       " 289,\n",
       " 324,\n",
       " 361]"
      ]
     },
     "execution_count": 91,
     "metadata": {},
     "output_type": "execute_result"
    }
   ],
   "source": [
    "a"
   ]
  },
  {
   "cell_type": "code",
   "execution_count": 92,
   "id": "03b90be1",
   "metadata": {},
   "outputs": [
    {
     "data": {
      "text/plain": [
       "{0: 0, 1: 1, 2: 4, 3: 9, 4: 16, 5: 25, 6: 36, 7: 49, 8: 64, 9: 81}"
      ]
     },
     "execution_count": 92,
     "metadata": {},
     "output_type": "execute_result"
    }
   ],
   "source": [
    "a = {i: i**2for i in range (10)}\n",
    "a"
   ]
  },
  {
   "cell_type": "code",
   "execution_count": null,
   "id": "1067dbc7",
   "metadata": {},
   "outputs": [],
   "source": [
    "nilai = [konversi_ke_indeks(i)for i in (29, 49, 49, 95 , 93, 1010,-0.21)]\n",
    "nilai"
   ]
  },
  {
   "cell_type": "code",
   "execution_count": 94,
   "id": "4617c383",
   "metadata": {},
   "outputs": [
    {
     "name": "stdout",
     "output_type": "stream",
     "text": [
      "1\n",
      "2\n",
      "3\n",
      "4\n",
      "5\n",
      "6\n",
      "7\n",
      "8\n",
      "9\n",
      "10\n",
      "11\n",
      "12\n",
      "13\n",
      "14\n",
      "15\n",
      "16\n",
      "17\n",
      "18\n",
      "18\n",
      "18\n"
     ]
    }
   ],
   "source": [
    "for i in range (1,21):\n",
    "    if i>18:\n",
    "        print(18)\n",
    "    else:\n",
    "        print(i)"
   ]
  },
  {
   "cell_type": "code",
   "execution_count": 95,
   "id": "4b84d4fb",
   "metadata": {
    "scrolled": true
   },
   "outputs": [
    {
     "name": "stdout",
     "output_type": "stream",
     "text": [
      "1\n",
      "2\n",
      "3\n",
      "4\n",
      "5\n",
      "6\n",
      "7\n",
      "8\n",
      "9\n",
      "10\n",
      "11\n",
      "12\n",
      "13\n",
      "14\n",
      "15\n",
      "16\n",
      "17\n",
      "18\n",
      "18\n",
      "18\n"
     ]
    }
   ],
   "source": [
    "for i in range (1,21):\n",
    "    print(min(i,18))"
   ]
  },
  {
   "cell_type": "code",
   "execution_count": 1,
   "id": "39bd72ed",
   "metadata": {
    "scrolled": true
   },
   "outputs": [
    {
     "name": "stdout",
     "output_type": "stream",
     "text": [
      "1\n",
      "2\n",
      "3\n",
      "4\n",
      "5\n",
      "6\n",
      "7\n",
      "8\n",
      "9\n",
      "10\n",
      "11\n",
      "12\n",
      "13\n",
      "14\n",
      "15\n",
      "16\n",
      "17\n",
      "18\n"
     ]
    }
   ],
   "source": [
    "for i in range (1,21):\n",
    "    print(i)\n",
    "    if i == 18:\n",
    "        break"
   ]
  },
  {
   "cell_type": "code",
   "execution_count": 6,
   "id": "54088427",
   "metadata": {},
   "outputs": [
    {
     "ename": "NameError",
     "evalue": "name 'angka' is not defined",
     "output_type": "error",
     "traceback": [
      "\u001b[1;31m---------------------------------------------------------------------------\u001b[0m",
      "\u001b[1;31mNameError\u001b[0m                                 Traceback (most recent call last)",
      "\u001b[1;32m<ipython-input-6-884b4314e910>\u001b[0m in \u001b[0;36m<module>\u001b[1;34m\u001b[0m\n\u001b[1;32m----> 1\u001b[1;33m \u001b[0mid\u001b[0m\u001b[1;33m(\u001b[0m\u001b[0mangka\u001b[0m\u001b[1;33m)\u001b[0m\u001b[1;33m\u001b[0m\u001b[1;33m\u001b[0m\u001b[0m\n\u001b[0m",
      "\u001b[1;31mNameError\u001b[0m: name 'angka' is not defined"
     ]
    }
   ],
   "source": [
    "id()"
   ]
  },
  {
   "cell_type": "markdown",
   "id": "7ddd7ac9",
   "metadata": {},
   "source": [
    "# numerical in python"
   ]
  },
  {
   "cell_type": "code",
   "execution_count": 32,
   "id": "2eb16801",
   "metadata": {},
   "outputs": [],
   "source": [
    "import numpy as np"
   ]
  },
  {
   "cell_type": "code",
   "execution_count": 20,
   "id": "03e5b086",
   "metadata": {},
   "outputs": [
    {
     "data": {
      "text/plain": [
       "[(1, 3, 5, 56, 6), (6, 5, 43, 3, 2)]"
      ]
     },
     "execution_count": 20,
     "metadata": {},
     "output_type": "execute_result"
    }
   ],
   "source": [
    "a = [(1,3,5,56,6),\n",
    "    (6,5,43,3,2)]\n",
    "a"
   ]
  },
  {
   "cell_type": "code",
   "execution_count": 17,
   "id": "c561aaeb",
   "metadata": {},
   "outputs": [
    {
     "data": {
      "text/plain": [
       "array([[ 1,  3,  5, 56,  6],\n",
       "       [ 6,  5, 43,  3,  2]])"
      ]
     },
     "execution_count": 17,
     "metadata": {},
     "output_type": "execute_result"
    }
   ],
   "source": [
    "b = np.array(a)\n",
    "b"
   ]
  },
  {
   "cell_type": "code",
   "execution_count": 22,
   "id": "718edde4",
   "metadata": {},
   "outputs": [
    {
     "data": {
      "text/plain": [
       "array([[  1,   3,   5,  56,   6],\n",
       "       [  6, 100,  43,   3,   2]])"
      ]
     },
     "execution_count": 22,
     "metadata": {},
     "output_type": "execute_result"
    }
   ],
   "source": [
    "b[1,1] = (100)\n",
    "b"
   ]
  },
  {
   "cell_type": "code",
   "execution_count": 5,
   "id": "4cc86a3d",
   "metadata": {},
   "outputs": [],
   "source": [
    "a = range(20)"
   ]
  },
  {
   "cell_type": "code",
   "execution_count": 6,
   "id": "15cb72ea",
   "metadata": {},
   "outputs": [
    {
     "data": {
      "text/plain": [
       "range(0, 20)"
      ]
     },
     "execution_count": 6,
     "metadata": {},
     "output_type": "execute_result"
    }
   ],
   "source": [
    "a"
   ]
  },
  {
   "cell_type": "code",
   "execution_count": 23,
   "id": "44518e27",
   "metadata": {},
   "outputs": [
    {
     "data": {
      "text/plain": [
       "[1, 2, 3, 4, 5, 6, 7, 8, 9, 10]"
      ]
     },
     "execution_count": 23,
     "metadata": {},
     "output_type": "execute_result"
    }
   ],
   "source": [
    "a = [1,2,3,4,5,6,7,8,9,10]\n",
    "a"
   ]
  },
  {
   "cell_type": "code",
   "execution_count": 24,
   "id": "cc1f0543",
   "metadata": {},
   "outputs": [
    {
     "name": "stdout",
     "output_type": "stream",
     "text": [
      "[1, 2]\n",
      "[9, 10]\n"
     ]
    }
   ],
   "source": [
    "b = a[0:2]\n",
    "print(b)\n",
    "c = a[-2:]\n",
    "print(c)"
   ]
  },
  {
   "cell_type": "code",
   "execution_count": 25,
   "id": "2bef9cef",
   "metadata": {},
   "outputs": [],
   "source": [
    "d = [] \n",
    "d.append(c)\n",
    "d.append(b)"
   ]
  },
  {
   "cell_type": "code",
   "execution_count": 26,
   "id": "51573a0a",
   "metadata": {},
   "outputs": [
    {
     "name": "stdout",
     "output_type": "stream",
     "text": [
      "[[9, 10], [1, 2]]\n"
     ]
    }
   ],
   "source": [
    "print(d)"
   ]
  },
  {
   "cell_type": "code",
   "execution_count": 27,
   "id": "7a62b8cb",
   "metadata": {},
   "outputs": [
    {
     "name": "stdout",
     "output_type": "stream",
     "text": [
      "range(1, 20)\n"
     ]
    }
   ],
   "source": [
    "a = range(1,20)\n",
    "\n",
    "print(a)"
   ]
  },
  {
   "cell_type": "code",
   "execution_count": 30,
   "id": "1fdb5f8f",
   "metadata": {},
   "outputs": [
    {
     "data": {
      "text/plain": [
       "[1, 2, 3, 4, 5, 6, 7, 8, 9, 10, 11, 12, 13, 14, 15, 16, 17, 18, 19]"
      ]
     },
     "execution_count": 30,
     "metadata": {},
     "output_type": "execute_result"
    }
   ],
   "source": [
    "[i for i in range (1,20)]"
   ]
  },
  {
   "cell_type": "code",
   "execution_count": 33,
   "id": "04dab440",
   "metadata": {},
   "outputs": [
    {
     "data": {
      "text/plain": [
       "array([ 1,  2,  3,  4,  5,  6,  7,  8,  9, 10, 11, 12, 13, 14, 15, 16, 17,\n",
       "       18, 19])"
      ]
     },
     "execution_count": 33,
     "metadata": {},
     "output_type": "execute_result"
    }
   ],
   "source": [
    "np.arange(1,20)"
   ]
  }
 ],
 "metadata": {
  "kernelspec": {
   "display_name": "Python 3",
   "language": "python",
   "name": "python3"
  },
  "language_info": {
   "codemirror_mode": {
    "name": "ipython",
    "version": 3
   },
   "file_extension": ".py",
   "mimetype": "text/x-python",
   "name": "python",
   "nbconvert_exporter": "python",
   "pygments_lexer": "ipython3",
   "version": "3.8.8"
  }
 },
 "nbformat": 4,
 "nbformat_minor": 5
}
